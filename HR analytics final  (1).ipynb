{
 "cells": [
  {
   "cell_type": "markdown",
   "metadata": {},
   "source": [
    "\n",
    "Every year a lot of companies hire a number of employees. The companies invest time and money in training those employees, not just this but there are training programs within the companies for their existing employees as well. The aim of these programs is to increase the effectiveness of their employees. But where HR Analytics fit in this? and is it just about improving the performance of employees?\n",
    "\n",
    "HR Analytics\n",
    "\n",
    "Human resource analytics (HR analytics) is an area in the field of analytics that refers to applying analytic processes to the human resource department of an organization in the hope of improving employee performance and therefore getting a better return on investment. HR analytics does not just deal with gathering data on employee efficiency. Instead, it aims to provide insight into each process by gathering data and then using it to make relevant decisions about how to improve these processes.\n",
    "\n",
    "Attrition in HR\n",
    "\n",
    "Attrition in human resources refers to the gradual loss of employees overtime. In general, relatively high attrition is problematic for companies. HR professionals often assume a leadership role in designing company compensation programs, work culture, and motivation systems that help the organization retain top employees.\n",
    "\n",
    "How does Attrition affect companies? and how does HR Analytics help in analyzing attrition? We will discuss the first question here and for the second question, we will write the code and try to understand the process step by step.\n",
    "\n",
    "Attrition affecting Companies\n",
    "\n",
    "A major problem in high employee attrition is its cost to an organization. Job postings, hiring processes, paperwork, and new hire training are some of the common expenses of losing employees and replacing them. Additionally, regular employee turnover prohibits your organization from increasing its collective knowledge base and experience over time. This is especially concerning if your business is customer-facing, as customers often prefer to interact with familiar people. Errors and issues are more likely if you constantly have new workers."
   ]
  },
  {
   "cell_type": "code",
   "execution_count": 28,
   "metadata": {},
   "outputs": [],
   "source": [
    "import numpy as np\n",
    "import pandas as pd\n",
    "import matplotlib.pyplot as plt\n",
    "import seaborn as sns\n",
    "from scipy import stats\n",
    "import warnings\n",
    "warnings.filterwarnings('ignore')"
   ]
  },
  {
   "cell_type": "code",
   "execution_count": 29,
   "metadata": {},
   "outputs": [],
   "source": [
    "df = pd.read_csv(r\"hranalytics.csv\",engine='python')"
   ]
  },
  {
   "cell_type": "code",
   "execution_count": 30,
   "metadata": {},
   "outputs": [
    {
     "data": {
      "text/html": [
       "<div>\n",
       "<style scoped>\n",
       "    .dataframe tbody tr th:only-of-type {\n",
       "        vertical-align: middle;\n",
       "    }\n",
       "\n",
       "    .dataframe tbody tr th {\n",
       "        vertical-align: top;\n",
       "    }\n",
       "\n",
       "    .dataframe thead th {\n",
       "        text-align: right;\n",
       "    }\n",
       "</style>\n",
       "<table border=\"1\" class=\"dataframe\">\n",
       "  <thead>\n",
       "    <tr style=\"text-align: right;\">\n",
       "      <th></th>\n",
       "      <th>Age\\tAttrition\\tBusinessTravel\\tDailyRate\\tDepartment\\tDistanceFromHome\\tEducation\\tEducationField\\tEmployeeCount\\tEmployeeNumber\\tEnvironmentSatisfaction\\tGender\\tHourlyRate\\tJobInvolvement\\tJobLevel\\tJobRole\\tJobSatisfaction\\tMaritalStatus\\tMonthlyIncome\\tMonthlyRate\\tNumCompaniesWorked\\tOver18\\tOverTime\\tPercentSalaryHike\\tPerformanceRating\\tRelationshipSatisfaction\\tStandardHours\\tStockOptionLevel\\tTotalWorkingYears\\tTrainingTimesLastYear\\tWorkLifeBalance\\tYearsAtCompany\\tYearsInCurrentRole\\tYearsSinceLastPromotion\\tYearsWithCurrManager</th>\n",
       "    </tr>\n",
       "  </thead>\n",
       "  <tbody>\n",
       "    <tr>\n",
       "      <th>0</th>\n",
       "      <td>41\\tYes\\tTravel_Rarely\\t1102\\tSales\\t1\\t2\\tLif...</td>\n",
       "    </tr>\n",
       "    <tr>\n",
       "      <th>1</th>\n",
       "      <td>49\\tNo\\tTravel_Frequently\\t279\\tResearch &amp; Dev...</td>\n",
       "    </tr>\n",
       "    <tr>\n",
       "      <th>2</th>\n",
       "      <td>37\\tYes\\tTravel_Rarely\\t1373\\tResearch &amp; Devel...</td>\n",
       "    </tr>\n",
       "    <tr>\n",
       "      <th>3</th>\n",
       "      <td>33\\tNo\\tTravel_Frequently\\t1392\\tResearch &amp; De...</td>\n",
       "    </tr>\n",
       "    <tr>\n",
       "      <th>4</th>\n",
       "      <td>27\\tNo\\tTravel_Rarely\\t591\\tResearch &amp; Develop...</td>\n",
       "    </tr>\n",
       "  </tbody>\n",
       "</table>\n",
       "</div>"
      ],
      "text/plain": [
       "  Age\\tAttrition\\tBusinessTravel\\tDailyRate\\tDepartment\\tDistanceFromHome\\tEducation\\tEducationField\\tEmployeeCount\\tEmployeeNumber\\tEnvironmentSatisfaction\\tGender\\tHourlyRate\\tJobInvolvement\\tJobLevel\\tJobRole\\tJobSatisfaction\\tMaritalStatus\\tMonthlyIncome\\tMonthlyRate\\tNumCompaniesWorked\\tOver18\\tOverTime\\tPercentSalaryHike\\tPerformanceRating\\tRelationshipSatisfaction\\tStandardHours\\tStockOptionLevel\\tTotalWorkingYears\\tTrainingTimesLastYear\\tWorkLifeBalance\\tYearsAtCompany\\tYearsInCurrentRole\\tYearsSinceLastPromotion\\tYearsWithCurrManager\n",
       "0  41\\tYes\\tTravel_Rarely\\t1102\\tSales\\t1\\t2\\tLif...                                                                                                                                                                                                                                                                                                                                                                                                                                                                                                                \n",
       "1  49\\tNo\\tTravel_Frequently\\t279\\tResearch & Dev...                                                                                                                                                                                                                                                                                                                                                                                                                                                                                                                \n",
       "2  37\\tYes\\tTravel_Rarely\\t1373\\tResearch & Devel...                                                                                                                                                                                                                                                                                                                                                                                                                                                                                                                \n",
       "3  33\\tNo\\tTravel_Frequently\\t1392\\tResearch & De...                                                                                                                                                                                                                                                                                                                                                                                                                                                                                                                \n",
       "4  27\\tNo\\tTravel_Rarely\\t591\\tResearch & Develop...                                                                                                                                                                                                                                                                                                                                                                                                                                                                                                                "
      ]
     },
     "execution_count": 30,
     "metadata": {},
     "output_type": "execute_result"
    }
   ],
   "source": [
    "df.head()"
   ]
  },
  {
   "cell_type": "code",
   "execution_count": 31,
   "metadata": {},
   "outputs": [
    {
     "data": {
      "text/plain": [
       "(1470, 1)"
      ]
     },
     "execution_count": 31,
     "metadata": {},
     "output_type": "execute_result"
    }
   ],
   "source": [
    "df.shape"
   ]
  },
  {
   "cell_type": "code",
   "execution_count": 32,
   "metadata": {},
   "outputs": [],
   "source": [
    "df_pd = pd.DataFrame(df)\n",
    "df_pd.rename(columns ={'ï»¿Age':'Age'},inplace=True)"
   ]
  },
  {
   "cell_type": "code",
   "execution_count": 33,
   "metadata": {},
   "outputs": [
    {
     "data": {
      "text/html": [
       "<div>\n",
       "<style scoped>\n",
       "    .dataframe tbody tr th:only-of-type {\n",
       "        vertical-align: middle;\n",
       "    }\n",
       "\n",
       "    .dataframe tbody tr th {\n",
       "        vertical-align: top;\n",
       "    }\n",
       "\n",
       "    .dataframe thead th {\n",
       "        text-align: right;\n",
       "    }\n",
       "</style>\n",
       "<table border=\"1\" class=\"dataframe\">\n",
       "  <thead>\n",
       "    <tr style=\"text-align: right;\">\n",
       "      <th></th>\n",
       "      <th>Age\\tAttrition\\tBusinessTravel\\tDailyRate\\tDepartment\\tDistanceFromHome\\tEducation\\tEducationField\\tEmployeeCount\\tEmployeeNumber\\tEnvironmentSatisfaction\\tGender\\tHourlyRate\\tJobInvolvement\\tJobLevel\\tJobRole\\tJobSatisfaction\\tMaritalStatus\\tMonthlyIncome\\tMonthlyRate\\tNumCompaniesWorked\\tOver18\\tOverTime\\tPercentSalaryHike\\tPerformanceRating\\tRelationshipSatisfaction\\tStandardHours\\tStockOptionLevel\\tTotalWorkingYears\\tTrainingTimesLastYear\\tWorkLifeBalance\\tYearsAtCompany\\tYearsInCurrentRole\\tYearsSinceLastPromotion\\tYearsWithCurrManager</th>\n",
       "    </tr>\n",
       "  </thead>\n",
       "  <tbody>\n",
       "    <tr>\n",
       "      <th>0</th>\n",
       "      <td>41\\tYes\\tTravel_Rarely\\t1102\\tSales\\t1\\t2\\tLif...</td>\n",
       "    </tr>\n",
       "    <tr>\n",
       "      <th>1</th>\n",
       "      <td>49\\tNo\\tTravel_Frequently\\t279\\tResearch &amp; Dev...</td>\n",
       "    </tr>\n",
       "    <tr>\n",
       "      <th>2</th>\n",
       "      <td>37\\tYes\\tTravel_Rarely\\t1373\\tResearch &amp; Devel...</td>\n",
       "    </tr>\n",
       "    <tr>\n",
       "      <th>3</th>\n",
       "      <td>33\\tNo\\tTravel_Frequently\\t1392\\tResearch &amp; De...</td>\n",
       "    </tr>\n",
       "    <tr>\n",
       "      <th>4</th>\n",
       "      <td>27\\tNo\\tTravel_Rarely\\t591\\tResearch &amp; Develop...</td>\n",
       "    </tr>\n",
       "  </tbody>\n",
       "</table>\n",
       "</div>"
      ],
      "text/plain": [
       "  Age\\tAttrition\\tBusinessTravel\\tDailyRate\\tDepartment\\tDistanceFromHome\\tEducation\\tEducationField\\tEmployeeCount\\tEmployeeNumber\\tEnvironmentSatisfaction\\tGender\\tHourlyRate\\tJobInvolvement\\tJobLevel\\tJobRole\\tJobSatisfaction\\tMaritalStatus\\tMonthlyIncome\\tMonthlyRate\\tNumCompaniesWorked\\tOver18\\tOverTime\\tPercentSalaryHike\\tPerformanceRating\\tRelationshipSatisfaction\\tStandardHours\\tStockOptionLevel\\tTotalWorkingYears\\tTrainingTimesLastYear\\tWorkLifeBalance\\tYearsAtCompany\\tYearsInCurrentRole\\tYearsSinceLastPromotion\\tYearsWithCurrManager\n",
       "0  41\\tYes\\tTravel_Rarely\\t1102\\tSales\\t1\\t2\\tLif...                                                                                                                                                                                                                                                                                                                                                                                                                                                                                                                \n",
       "1  49\\tNo\\tTravel_Frequently\\t279\\tResearch & Dev...                                                                                                                                                                                                                                                                                                                                                                                                                                                                                                                \n",
       "2  37\\tYes\\tTravel_Rarely\\t1373\\tResearch & Devel...                                                                                                                                                                                                                                                                                                                                                                                                                                                                                                                \n",
       "3  33\\tNo\\tTravel_Frequently\\t1392\\tResearch & De...                                                                                                                                                                                                                                                                                                                                                                                                                                                                                                                \n",
       "4  27\\tNo\\tTravel_Rarely\\t591\\tResearch & Develop...                                                                                                                                                                                                                                                                                                                                                                                                                                                                                                                "
      ]
     },
     "execution_count": 33,
     "metadata": {},
     "output_type": "execute_result"
    }
   ],
   "source": [
    "df.head()"
   ]
  },
  {
   "cell_type": "code",
   "execution_count": null,
   "metadata": {},
   "outputs": [],
   "source": []
  },
  {
   "cell_type": "code",
   "execution_count": 34,
   "metadata": {},
   "outputs": [
    {
     "data": {
      "text/plain": [
       "Index(['Age\\tAttrition\\tBusinessTravel\\tDailyRate\\tDepartment\\tDistanceFromHome\\tEducation\\tEducationField\\tEmployeeCount\\tEmployeeNumber\\tEnvironmentSatisfaction\\tGender\\tHourlyRate\\tJobInvolvement\\tJobLevel\\tJobRole\\tJobSatisfaction\\tMaritalStatus\\tMonthlyIncome\\tMonthlyRate\\tNumCompaniesWorked\\tOver18\\tOverTime\\tPercentSalaryHike\\tPerformanceRating\\tRelationshipSatisfaction\\tStandardHours\\tStockOptionLevel\\tTotalWorkingYears\\tTrainingTimesLastYear\\tWorkLifeBalance\\tYearsAtCompany\\tYearsInCurrentRole\\tYearsSinceLastPromotion\\tYearsWithCurrManager'], dtype='object')"
      ]
     },
     "execution_count": 34,
     "metadata": {},
     "output_type": "execute_result"
    }
   ],
   "source": [
    "df.columns"
   ]
  },
  {
   "cell_type": "markdown",
   "metadata": {},
   "source": [
    "### Features and Targets:\n",
    "   <b>INPUT FEATURES</b>:\n",
    "                   \n",
    "                   'Age', 'BusinessTravel', 'DailyRate', 'Department', 'DistanceFromHome',\n",
    "                   'Education', 'EducationField', 'EmployeeCount', 'EmployeeNumber',\n",
    "                   'EnvironmentSatisfaction', 'Gender', 'HourlyRate', 'JobInvolvement',\n",
    "                   'JobLevel', 'JobRole', 'JobSatisfaction', 'MaritalStatus',\n",
    "                   'MonthlyIncome', 'MonthlyRate', 'NumCompaniesWorked', 'Over18',\n",
    "                   'OverTime', 'PercentSalaryHike', 'PerformanceRating',\n",
    "                   'RelationshipSatisfaction', 'StandardHours', 'StockOptionLevel',\n",
    "                   'TotalWorkingYears', 'TrainingTimesLastYear', 'WorkLifeBalance',\n",
    "                   'YearsAtCompany', 'YearsInCurrentRole', 'YearsSinceLastPromotion',\n",
    "                   'YearsWithCurrManager'\n",
    "                   \n",
    "   <b>TARGET FEATURE</b>: \n",
    "                   \n",
    "                   'Attrition'-Attrition in human resources refers to the gradual loss of employees over time."
   ]
  },
  {
   "cell_type": "code",
   "execution_count": 35,
   "metadata": {},
   "outputs": [
    {
     "name": "stdout",
     "output_type": "stream",
     "text": [
      "<class 'pandas.core.frame.DataFrame'>\n",
      "RangeIndex: 1470 entries, 0 to 1469\n",
      "Data columns (total 1 columns):\n",
      " #   Column                                                                                                                                                                                                                                                                                                                                                                                                                                                                                                                            Non-Null Count  Dtype \n",
      "---  ------                                                                                                                                                                                                                                                                                                                                                                                                                                                                                                                            --------------  ----- \n",
      " 0   Age\tAttrition\tBusinessTravel\tDailyRate\tDepartment\tDistanceFromHome\tEducation\tEducationField\tEmployeeCount\tEmployeeNumber\tEnvironmentSatisfaction\tGender\tHourlyRate\tJobInvolvement\tJobLevel\tJobRole\tJobSatisfaction\tMaritalStatus\tMonthlyIncome\tMonthlyRate\tNumCompaniesWorked\tOver18\tOverTime\tPercentSalaryHike\tPerformanceRating\tRelationshipSatisfaction\tStandardHours\tStockOptionLevel\tTotalWorkingYears\tTrainingTimesLastYear\tWorkLifeBalance\tYearsAtCompany\tYearsInCurrentRole\tYearsSinceLastPromotion\tYearsWithCurrManager  1470 non-null   object\n",
      "dtypes: object(1)\n",
      "memory usage: 11.6+ KB\n"
     ]
    }
   ],
   "source": [
    "df.info()"
   ]
  },
  {
   "cell_type": "markdown",
   "metadata": {},
   "source": [
    "only few  datatypes are object "
   ]
  },
  {
   "cell_type": "code",
   "execution_count": 36,
   "metadata": {},
   "outputs": [
    {
     "data": {
      "text/html": [
       "<div>\n",
       "<style scoped>\n",
       "    .dataframe tbody tr th:only-of-type {\n",
       "        vertical-align: middle;\n",
       "    }\n",
       "\n",
       "    .dataframe tbody tr th {\n",
       "        vertical-align: top;\n",
       "    }\n",
       "\n",
       "    .dataframe thead th {\n",
       "        text-align: right;\n",
       "    }\n",
       "</style>\n",
       "<table border=\"1\" class=\"dataframe\">\n",
       "  <thead>\n",
       "    <tr style=\"text-align: right;\">\n",
       "      <th></th>\n",
       "      <th>Age\\tAttrition\\tBusinessTravel\\tDailyRate\\tDepartment\\tDistanceFromHome\\tEducation\\tEducationField\\tEmployeeCount\\tEmployeeNumber\\tEnvironmentSatisfaction\\tGender\\tHourlyRate\\tJobInvolvement\\tJobLevel\\tJobRole\\tJobSatisfaction\\tMaritalStatus\\tMonthlyIncome\\tMonthlyRate\\tNumCompaniesWorked\\tOver18\\tOverTime\\tPercentSalaryHike\\tPerformanceRating\\tRelationshipSatisfaction\\tStandardHours\\tStockOptionLevel\\tTotalWorkingYears\\tTrainingTimesLastYear\\tWorkLifeBalance\\tYearsAtCompany\\tYearsInCurrentRole\\tYearsSinceLastPromotion\\tYearsWithCurrManager</th>\n",
       "    </tr>\n",
       "  </thead>\n",
       "  <tbody>\n",
       "    <tr>\n",
       "      <th>count</th>\n",
       "      <td>1470</td>\n",
       "    </tr>\n",
       "    <tr>\n",
       "      <th>unique</th>\n",
       "      <td>1470</td>\n",
       "    </tr>\n",
       "    <tr>\n",
       "      <th>top</th>\n",
       "      <td>30\\tNo\\tTravel_Rarely\\t153\\tResearch &amp; Develop...</td>\n",
       "    </tr>\n",
       "    <tr>\n",
       "      <th>freq</th>\n",
       "      <td>1</td>\n",
       "    </tr>\n",
       "  </tbody>\n",
       "</table>\n",
       "</div>"
      ],
      "text/plain": [
       "       Age\\tAttrition\\tBusinessTravel\\tDailyRate\\tDepartment\\tDistanceFromHome\\tEducation\\tEducationField\\tEmployeeCount\\tEmployeeNumber\\tEnvironmentSatisfaction\\tGender\\tHourlyRate\\tJobInvolvement\\tJobLevel\\tJobRole\\tJobSatisfaction\\tMaritalStatus\\tMonthlyIncome\\tMonthlyRate\\tNumCompaniesWorked\\tOver18\\tOverTime\\tPercentSalaryHike\\tPerformanceRating\\tRelationshipSatisfaction\\tStandardHours\\tStockOptionLevel\\tTotalWorkingYears\\tTrainingTimesLastYear\\tWorkLifeBalance\\tYearsAtCompany\\tYearsInCurrentRole\\tYearsSinceLastPromotion\\tYearsWithCurrManager\n",
       "count                                                1470                                                                                                                                                                                                                                                                                                                                                                                                                                                                                                                \n",
       "unique                                               1470                                                                                                                                                                                                                                                                                                                                                                                                                                                                                                                \n",
       "top     30\\tNo\\tTravel_Rarely\\t153\\tResearch & Develop...                                                                                                                                                                                                                                                                                                                                                                                                                                                                                                                \n",
       "freq                                                    1                                                                                                                                                                                                                                                                                                                                                                                                                                                                                                                "
      ]
     },
     "execution_count": 36,
     "metadata": {},
     "output_type": "execute_result"
    }
   ],
   "source": [
    "df.describe()"
   ]
  },
  {
   "cell_type": "markdown",
   "metadata": {},
   "source": [
    "Target Variable `Attrition` is a binary target.Need to perform classification on this dataset."
   ]
  },
  {
   "cell_type": "code",
   "execution_count": 37,
   "metadata": {},
   "outputs": [
    {
     "data": {
      "text/plain": [
       "Age\\tAttrition\\tBusinessTravel\\tDailyRate\\tDepartment\\tDistanceFromHome\\tEducation\\tEducationField\\tEmployeeCount\\tEmployeeNumber\\tEnvironmentSatisfaction\\tGender\\tHourlyRate\\tJobInvolvement\\tJobLevel\\tJobRole\\tJobSatisfaction\\tMaritalStatus\\tMonthlyIncome\\tMonthlyRate\\tNumCompaniesWorked\\tOver18\\tOverTime\\tPercentSalaryHike\\tPerformanceRating\\tRelationshipSatisfaction\\tStandardHours\\tStockOptionLevel\\tTotalWorkingYears\\tTrainingTimesLastYear\\tWorkLifeBalance\\tYearsAtCompany\\tYearsInCurrentRole\\tYearsSinceLastPromotion\\tYearsWithCurrManager    0\n",
       "dtype: int64"
      ]
     },
     "execution_count": 37,
     "metadata": {},
     "output_type": "execute_result"
    }
   ],
   "source": [
    "df.isna().sum()"
   ]
  },
  {
   "cell_type": "code",
   "execution_count": 38,
   "metadata": {},
   "outputs": [
    {
     "data": {
      "text/plain": [
       "<AxesSubplot:>"
      ]
     },
     "execution_count": 38,
     "metadata": {},
     "output_type": "execute_result"
    },
    {
     "data": {
      "image/png": "[encoded data removed]",
      "text/plain": [
       "<Figure size 432x288 with 2 Axes>"
      ]
     },
     "metadata": {
      "needs_background": "light"
     },
     "output_type": "display_data"
    }
   ],
   "source": [
    "sns.heatmap(df.isna(),cmap='viridis')"
   ]
  },
  {
   "cell_type": "markdown",
   "metadata": {},
   "source": [
    "we can see that there are no null values"
   ]
  },
  {
   "cell_type": "code",
   "execution_count": 39,
   "metadata": {},
   "outputs": [
    {
     "data": {
      "text/html": [
       "<div>\n",
       "<style scoped>\n",
       "    .dataframe tbody tr th:only-of-type {\n",
       "        vertical-align: middle;\n",
       "    }\n",
       "\n",
       "    .dataframe tbody tr th {\n",
       "        vertical-align: top;\n",
       "    }\n",
       "\n",
       "    .dataframe thead th {\n",
       "        text-align: right;\n",
       "    }\n",
       "</style>\n",
       "<table border=\"1\" class=\"dataframe\">\n",
       "  <thead>\n",
       "    <tr style=\"text-align: right;\">\n",
       "      <th></th>\n",
       "    </tr>\n",
       "  </thead>\n",
       "  <tbody>\n",
       "  </tbody>\n",
       "</table>\n",
       "</div>"
      ],
      "text/plain": [
       "Empty DataFrame\n",
       "Columns: []\n",
       "Index: []"
      ]
     },
     "execution_count": 39,
     "metadata": {},
     "output_type": "execute_result"
    }
   ],
   "source": [
    "df.corr()"
   ]
  },
  {
   "cell_type": "code",
   "execution_count": 40,
   "metadata": {},
   "outputs": [
    {
     "ename": "ValueError",
     "evalue": "zero-size array to reduction operation fmin which has no identity",
     "output_type": "error",
     "traceback": [
      "\u001b[1;31m---------------------------------------------------------------------------\u001b[0m",
      "\u001b[1;31mValueError\u001b[0m                                Traceback (most recent call last)",
      "\u001b[1;32m<ipython-input-40-44b6ee1ce1ec>\u001b[0m in \u001b[0;36m<module>\u001b[1;34m\u001b[0m\n\u001b[0;32m      1\u001b[0m \u001b[0mplt\u001b[0m\u001b[1;33m.\u001b[0m\u001b[0mfigure\u001b[0m\u001b[1;33m(\u001b[0m\u001b[0mfigsize\u001b[0m\u001b[1;33m=\u001b[0m\u001b[1;33m(\u001b[0m\u001b[1;36m25\u001b[0m\u001b[1;33m,\u001b[0m\u001b[1;36m20\u001b[0m\u001b[1;33m)\u001b[0m\u001b[1;33m)\u001b[0m\u001b[1;33m\u001b[0m\u001b[1;33m\u001b[0m\u001b[0m\n\u001b[1;32m----> 2\u001b[1;33m \u001b[0msns\u001b[0m\u001b[1;33m.\u001b[0m\u001b[0mheatmap\u001b[0m\u001b[1;33m(\u001b[0m\u001b[0mdf\u001b[0m\u001b[1;33m.\u001b[0m\u001b[0mcorr\u001b[0m\u001b[1;33m(\u001b[0m\u001b[1;33m)\u001b[0m\u001b[1;33m,\u001b[0m \u001b[0mcmap\u001b[0m\u001b[1;33m=\u001b[0m\u001b[1;34m\"YlGnBu\"\u001b[0m\u001b[1;33m,\u001b[0m \u001b[0mannot\u001b[0m \u001b[1;33m=\u001b[0m \u001b[1;32mTrue\u001b[0m\u001b[1;33m)\u001b[0m\u001b[1;33m\u001b[0m\u001b[1;33m\u001b[0m\u001b[0m\n\u001b[0m\u001b[0;32m      3\u001b[0m \u001b[0mplt\u001b[0m\u001b[1;33m.\u001b[0m\u001b[0mshow\u001b[0m\u001b[1;33m(\u001b[0m\u001b[1;33m)\u001b[0m\u001b[1;33m\u001b[0m\u001b[1;33m\u001b[0m\u001b[0m\n",
      "\u001b[1;32m~\\anaconda3\\lib\\site-packages\\seaborn\\_decorators.py\u001b[0m in \u001b[0;36minner_f\u001b[1;34m(*args, **kwargs)\u001b[0m\n\u001b[0;32m     44\u001b[0m             )\n\u001b[0;32m     45\u001b[0m         \u001b[0mkwargs\u001b[0m\u001b[1;33m.\u001b[0m\u001b[0mupdate\u001b[0m\u001b[1;33m(\u001b[0m\u001b[1;33m{\u001b[0m\u001b[0mk\u001b[0m\u001b[1;33m:\u001b[0m \u001b[0marg\u001b[0m \u001b[1;32mfor\u001b[0m \u001b[0mk\u001b[0m\u001b[1;33m,\u001b[0m \u001b[0marg\u001b[0m \u001b[1;32min\u001b[0m \u001b[0mzip\u001b[0m\u001b[1;33m(\u001b[0m\u001b[0msig\u001b[0m\u001b[1;33m.\u001b[0m\u001b[0mparameters\u001b[0m\u001b[1;33m,\u001b[0m \u001b[0margs\u001b[0m\u001b[1;33m)\u001b[0m\u001b[1;33m}\u001b[0m\u001b[1;33m)\u001b[0m\u001b[1;33m\u001b[0m\u001b[1;33m\u001b[0m\u001b[0m\n\u001b[1;32m---> 46\u001b[1;33m         \u001b[1;32mreturn\u001b[0m \u001b[0mf\u001b[0m\u001b[1;33m(\u001b[0m\u001b[1;33m**\u001b[0m\u001b[0mkwargs\u001b[0m\u001b[1;33m)\u001b[0m\u001b[1;33m\u001b[0m\u001b[1;33m\u001b[0m\u001b[0m\n\u001b[0m\u001b[0;32m     47\u001b[0m     \u001b[1;32mreturn\u001b[0m \u001b[0minner_f\u001b[0m\u001b[1;33m\u001b[0m\u001b[1;33m\u001b[0m\u001b[0m\n\u001b[0;32m     48\u001b[0m \u001b[1;33m\u001b[0m\u001b[0m\n",
      "\u001b[1;32m~\\anaconda3\\lib\\site-packages\\seaborn\\matrix.py\u001b[0m in \u001b[0;36mheatmap\u001b[1;34m(data, vmin, vmax, cmap, center, robust, annot, fmt, annot_kws, linewidths, linecolor, cbar, cbar_kws, cbar_ax, square, xticklabels, yticklabels, mask, ax, **kwargs)\u001b[0m\n\u001b[0;32m    543\u001b[0m     \"\"\"\n\u001b[0;32m    544\u001b[0m     \u001b[1;31m# Initialize the plotter object\u001b[0m\u001b[1;33m\u001b[0m\u001b[1;33m\u001b[0m\u001b[1;33m\u001b[0m\u001b[0m\n\u001b[1;32m--> 545\u001b[1;33m     plotter = _HeatMapper(data, vmin, vmax, cmap, center, robust, annot, fmt,\n\u001b[0m\u001b[0;32m    546\u001b[0m                           \u001b[0mannot_kws\u001b[0m\u001b[1;33m,\u001b[0m \u001b[0mcbar\u001b[0m\u001b[1;33m,\u001b[0m \u001b[0mcbar_kws\u001b[0m\u001b[1;33m,\u001b[0m \u001b[0mxticklabels\u001b[0m\u001b[1;33m,\u001b[0m\u001b[1;33m\u001b[0m\u001b[1;33m\u001b[0m\u001b[0m\n\u001b[0;32m    547\u001b[0m                           yticklabels, mask)\n",
      "\u001b[1;32m~\\anaconda3\\lib\\site-packages\\seaborn\\matrix.py\u001b[0m in \u001b[0;36m__init__\u001b[1;34m(self, data, vmin, vmax, cmap, center, robust, annot, fmt, annot_kws, cbar, cbar_kws, xticklabels, yticklabels, mask)\u001b[0m\n\u001b[0;32m    163\u001b[0m \u001b[1;33m\u001b[0m\u001b[0m\n\u001b[0;32m    164\u001b[0m         \u001b[1;31m# Determine good default values for the colormapping\u001b[0m\u001b[1;33m\u001b[0m\u001b[1;33m\u001b[0m\u001b[1;33m\u001b[0m\u001b[0m\n\u001b[1;32m--> 165\u001b[1;33m         self._determine_cmap_params(plot_data, vmin, vmax,\n\u001b[0m\u001b[0;32m    166\u001b[0m                                     cmap, center, robust)\n\u001b[0;32m    167\u001b[0m \u001b[1;33m\u001b[0m\u001b[0m\n",
      "\u001b[1;32m~\\anaconda3\\lib\\site-packages\\seaborn\\matrix.py\u001b[0m in \u001b[0;36m_determine_cmap_params\u001b[1;34m(self, plot_data, vmin, vmax, cmap, center, robust)\u001b[0m\n\u001b[0;32m    202\u001b[0m                 \u001b[0mvmin\u001b[0m \u001b[1;33m=\u001b[0m \u001b[0mnp\u001b[0m\u001b[1;33m.\u001b[0m\u001b[0mnanpercentile\u001b[0m\u001b[1;33m(\u001b[0m\u001b[0mcalc_data\u001b[0m\u001b[1;33m,\u001b[0m \u001b[1;36m2\u001b[0m\u001b[1;33m)\u001b[0m\u001b[1;33m\u001b[0m\u001b[1;33m\u001b[0m\u001b[0m\n\u001b[0;32m    203\u001b[0m             \u001b[1;32melse\u001b[0m\u001b[1;33m:\u001b[0m\u001b[1;33m\u001b[0m\u001b[1;33m\u001b[0m\u001b[0m\n\u001b[1;32m--> 204\u001b[1;33m                 \u001b[0mvmin\u001b[0m \u001b[1;33m=\u001b[0m \u001b[0mnp\u001b[0m\u001b[1;33m.\u001b[0m\u001b[0mnanmin\u001b[0m\u001b[1;33m(\u001b[0m\u001b[0mcalc_data\u001b[0m\u001b[1;33m)\u001b[0m\u001b[1;33m\u001b[0m\u001b[1;33m\u001b[0m\u001b[0m\n\u001b[0m\u001b[0;32m    205\u001b[0m         \u001b[1;32mif\u001b[0m \u001b[0mvmax\u001b[0m \u001b[1;32mis\u001b[0m \u001b[1;32mNone\u001b[0m\u001b[1;33m:\u001b[0m\u001b[1;33m\u001b[0m\u001b[1;33m\u001b[0m\u001b[0m\n\u001b[0;32m    206\u001b[0m             \u001b[1;32mif\u001b[0m \u001b[0mrobust\u001b[0m\u001b[1;33m:\u001b[0m\u001b[1;33m\u001b[0m\u001b[1;33m\u001b[0m\u001b[0m\n",
      "\u001b[1;32m<__array_function__ internals>\u001b[0m in \u001b[0;36mnanmin\u001b[1;34m(*args, **kwargs)\u001b[0m\n",
      "\u001b[1;32m~\\anaconda3\\lib\\site-packages\\numpy\\lib\\nanfunctions.py\u001b[0m in \u001b[0;36mnanmin\u001b[1;34m(a, axis, out, keepdims)\u001b[0m\n\u001b[0;32m    317\u001b[0m         \u001b[1;31m# Fast, but not safe for subclasses of ndarray, or object arrays,\u001b[0m\u001b[1;33m\u001b[0m\u001b[1;33m\u001b[0m\u001b[1;33m\u001b[0m\u001b[0m\n\u001b[0;32m    318\u001b[0m         \u001b[1;31m# which do not implement isnan (gh-9009), or fmin correctly (gh-8975)\u001b[0m\u001b[1;33m\u001b[0m\u001b[1;33m\u001b[0m\u001b[1;33m\u001b[0m\u001b[0m\n\u001b[1;32m--> 319\u001b[1;33m         \u001b[0mres\u001b[0m \u001b[1;33m=\u001b[0m \u001b[0mnp\u001b[0m\u001b[1;33m.\u001b[0m\u001b[0mfmin\u001b[0m\u001b[1;33m.\u001b[0m\u001b[0mreduce\u001b[0m\u001b[1;33m(\u001b[0m\u001b[0ma\u001b[0m\u001b[1;33m,\u001b[0m \u001b[0maxis\u001b[0m\u001b[1;33m=\u001b[0m\u001b[0maxis\u001b[0m\u001b[1;33m,\u001b[0m \u001b[0mout\u001b[0m\u001b[1;33m=\u001b[0m\u001b[0mout\u001b[0m\u001b[1;33m,\u001b[0m \u001b[1;33m**\u001b[0m\u001b[0mkwargs\u001b[0m\u001b[1;33m)\u001b[0m\u001b[1;33m\u001b[0m\u001b[1;33m\u001b[0m\u001b[0m\n\u001b[0m\u001b[0;32m    320\u001b[0m         \u001b[1;32mif\u001b[0m \u001b[0mnp\u001b[0m\u001b[1;33m.\u001b[0m\u001b[0misnan\u001b[0m\u001b[1;33m(\u001b[0m\u001b[0mres\u001b[0m\u001b[1;33m)\u001b[0m\u001b[1;33m.\u001b[0m\u001b[0many\u001b[0m\u001b[1;33m(\u001b[0m\u001b[1;33m)\u001b[0m\u001b[1;33m:\u001b[0m\u001b[1;33m\u001b[0m\u001b[1;33m\u001b[0m\u001b[0m\n\u001b[0;32m    321\u001b[0m             warnings.warn(\"All-NaN slice encountered\", RuntimeWarning,\n",
      "\u001b[1;31mValueError\u001b[0m: zero-size array to reduction operation fmin which has no identity"
     ]
    },
    {
     "data": {
      "text/plain": [
       "<Figure size 1800x1440 with 0 Axes>"
      ]
     },
     "metadata": {},
     "output_type": "display_data"
    }
   ],
   "source": [
    "plt.figure(figsize=(25,20))\n",
    "sns.heatmap(df.corr(), cmap=\"YlGnBu\", annot = True)\n",
    "plt.show()"
   ]
  },
  {
   "cell_type": "markdown",
   "metadata": {},
   "source": [
    "features monthly incore and job level are highly correlated\n",
    "and also numbers of years in company are also related"
   ]
  },
  {
   "cell_type": "markdown",
   "metadata": {},
   "source": [
    "LETS START WITH EDA-\n",
    "\n",
    "\n",
    "\n",
    "'Age'"
   ]
  },
  {
   "cell_type": "code",
   "execution_count": null,
   "metadata": {},
   "outputs": [],
   "source": [
    "pd.crosstab(df.Age,df.Attrition).plot(kind=\"bar\",figsize=(20,6))\n",
    "plt.title('age vs attrition')\n",
    "plt.xlabel('Age')\n",
    "plt.ylabel('Frequency')\n",
    "plt.show()"
   ]
  },
  {
   "cell_type": "code",
   "execution_count": null,
   "metadata": {},
   "outputs": [],
   "source": [
    "plt.figure(figsize=(15,10))\n",
    "sns.countplot(df.Age)"
   ]
  },
  {
   "cell_type": "markdown",
   "metadata": {},
   "source": [
    "Most of the employess in the company are from the age group of 26 to 38\n",
    "The minumum age required to work in the company is 18yrs.\n",
    "maximum is 60 yrs of age"
   ]
  },
  {
   "cell_type": "markdown",
   "metadata": {},
   "source": [
    "'Business Travel'"
   ]
  },
  {
   "cell_type": "code",
   "execution_count": null,
   "metadata": {},
   "outputs": [],
   "source": [
    "df.BusinessTravel.value_counts()"
   ]
  },
  {
   "cell_type": "code",
   "execution_count": null,
   "metadata": {},
   "outputs": [],
   "source": [
    "sns.set_theme(style=\"darkgrid\")\n",
    "ax=sns.countplot(x=\"BusinessTravel\", data=df)"
   ]
  },
  {
   "cell_type": "code",
   "execution_count": null,
   "metadata": {},
   "outputs": [],
   "source": [
    "countNonTravel  = len(df[df.BusinessTravel == 'Non-Travel' ])\n",
    "countTravelRarely  = len(df[df.BusinessTravel == 'Travel_Rarely'])\n",
    "countTravelFrequently = len(df[df.BusinessTravel == 'Travel_Frequently'])\n",
    "print(\"Percentage of countNon-Travel: {:.2f}%\".format((countNonTravel / (len(df.BusinessTravel))*100)))\n",
    "print(\"Percentage of Travel_Rarely : {:.2f}%\".format((countTravelRarely/ (len(df.BusinessTravel))*100)))\n",
    "print(\"Percentage of Travel_Frequently : {:.2f}%\".format((countTravelFrequently / (len(df.BusinessTravel))*100)))"
   ]
  },
  {
   "cell_type": "markdown",
   "metadata": {},
   "source": [
    "Most of the perople in the company travel rarely but there are very few non travellers."
   ]
  },
  {
   "cell_type": "markdown",
   "metadata": {},
   "source": [
    "Daily rate"
   ]
  },
  {
   "cell_type": "code",
   "execution_count": null,
   "metadata": {},
   "outputs": [],
   "source": [
    "sns.distplot(df.DailyRate)"
   ]
  },
  {
   "cell_type": "code",
   "execution_count": null,
   "metadata": {},
   "outputs": [],
   "source": [
    "import seaborn as sns\n",
    "f, ax = plt.subplots(nrows=1, ncols=3, figsize=(18, 4))\n",
    "sns.distplot(df.DailyRate, ax=ax[0])\n",
    "sns.boxplot(df.DailyRate, ax=ax[1])\n",
    "from scipy import stats\n",
    "stats.probplot(df['DailyRate'], plot=ax[2])\n",
    "plt.show()"
   ]
  },
  {
   "cell_type": "markdown",
   "metadata": {},
   "source": [
    "from above graphs we can conclude that daily rate per person is between 100-1500"
   ]
  },
  {
   "cell_type": "markdown",
   "metadata": {},
   "source": [
    "'Department'"
   ]
  },
  {
   "cell_type": "code",
   "execution_count": null,
   "metadata": {},
   "outputs": [],
   "source": [
    "df.Department.value_counts()"
   ]
  },
  {
   "cell_type": "code",
   "execution_count": null,
   "metadata": {},
   "outputs": [],
   "source": [
    "sns.set_theme(style=\"darkgrid\")\n",
    "ax=sns.countplot(x=\"Department\", data=df)"
   ]
  },
  {
   "cell_type": "code",
   "execution_count": null,
   "metadata": {},
   "outputs": [],
   "source": [
    "countsales  = len(df[df.Department == 'Sales' ])\n",
    "countrnd  = len(df[df.Department == 'Research & Development'])\n",
    "counthr = len(df[df.Department == 'Human Resources'])\n",
    "print(\"Percentage of countsales: {:.2f}%\".format((countsales/ (len(df.Department))*100)))\n",
    "print(\"Percentage of countrnd : {:.2f}%\".format((countrnd/ (len(df.Department))*100)))\n",
    "print(\"Percentage of counthr : {:.2f}%\".format((counthr / (len(df.Department))*100)))"
   ]
  },
  {
   "cell_type": "markdown",
   "metadata": {},
   "source": [
    "65% are in research and development\n",
    "human resource has only 4.2%"
   ]
  },
  {
   "cell_type": "markdown",
   "metadata": {},
   "source": [
    "'Distance From Home'"
   ]
  },
  {
   "cell_type": "code",
   "execution_count": null,
   "metadata": {},
   "outputs": [],
   "source": [
    "import seaborn as sns\n",
    "f, ax = plt.subplots(nrows=1, ncols=3, figsize=(18, 4))\n",
    "sns.distplot(df.DistanceFromHome, ax=ax[0])\n",
    "sns.boxplot(df.DistanceFromHome, ax=ax[1])\n",
    "from scipy import stats\n",
    "stats.probplot(df['DistanceFromHome'], plot=ax[2])\n",
    "plt.show()"
   ]
  },
  {
   "cell_type": "code",
   "execution_count": null,
   "metadata": {},
   "outputs": [],
   "source": [
    "sns.distplot(df.DistanceFromHome)"
   ]
  },
  {
   "cell_type": "markdown",
   "metadata": {},
   "source": [
    "Most people look forward to live near by office to reduce expense."
   ]
  },
  {
   "cell_type": "markdown",
   "metadata": {},
   "source": [
    "'Education field'"
   ]
  },
  {
   "cell_type": "code",
   "execution_count": null,
   "metadata": {},
   "outputs": [],
   "source": [
    "df.EducationField.value_counts()"
   ]
  },
  {
   "cell_type": "code",
   "execution_count": null,
   "metadata": {},
   "outputs": [],
   "source": [
    "plt.figure(figsize=(10,10))\n",
    "sns.set_theme(style=\"darkgrid\")\n",
    "ax=sns.countplot(x=\"EducationField\", data=df)"
   ]
  },
  {
   "cell_type": "code",
   "execution_count": null,
   "metadata": {},
   "outputs": [],
   "source": [
    "pd.crosstab(df.EducationField,df.Department).plot(kind=\"bar\",figsize=(20,6))\n",
    "plt.title('educationfield vs department')\n",
    "plt.xlabel('educataion field')\n",
    "plt.ylabel('Frequency')\n",
    "plt.show()"
   ]
  },
  {
   "cell_type": "markdown",
   "metadata": {},
   "source": [
    "most people are from life science and \n",
    "as per department wise  research and marketing percentage is high but not in field of human resource and marketing."
   ]
  },
  {
   "cell_type": "markdown",
   "metadata": {},
   "source": [
    "'Education'"
   ]
  },
  {
   "cell_type": "code",
   "execution_count": null,
   "metadata": {},
   "outputs": [],
   "source": [
    "df.Education.value_counts()"
   ]
  },
  {
   "cell_type": "code",
   "execution_count": null,
   "metadata": {},
   "outputs": [],
   "source": [
    "plt.figure(figsize=(10,10))\n",
    "sns.set_theme(style=\"darkgrid\")\n",
    "ax=sns.countplot(x=\"Education\", data=df)"
   ]
  },
  {
   "cell_type": "code",
   "execution_count": null,
   "metadata": {},
   "outputs": [],
   "source": [
    "count1 = len(df[df.Education == 1])\n",
    "count2 = len(df[df.Education == 2])\n",
    "count3 = len(df[df.Education == 3])\n",
    "count4 = len(df[df.Education == 4])\n",
    "count5 = len(df[df.Education == 5])\n",
    "print(\"Percentage of count1: {:.2f}%\".format((count1 / (len(df.Education))*100)))\n",
    "print(\"Percentage of count2: {:.2f}%\".format((count2/ (len(df.Education))*100)))\n",
    "print(\"Percentage of count3: {:.2f}%\".format((count3 / (len(df.Education))*100)))\n",
    "print(\"Percentage of count4: {:.2f}%\".format((count4 / (len(df.Education))*100)))\n",
    "print(\"Percentage of count5: {:.2f}%\".format((count5 / (len(df.Education))*100)))\n"
   ]
  },
  {
   "cell_type": "markdown",
   "metadata": {},
   "source": [
    "almost 56 percent have education leve 3-4 and only 3 percent people only have hightest level of education."
   ]
  },
  {
   "cell_type": "markdown",
   "metadata": {},
   "source": [
    "'Relation Satisfaction Level'"
   ]
  },
  {
   "cell_type": "code",
   "execution_count": null,
   "metadata": {},
   "outputs": [],
   "source": [
    "df.RelationshipSatisfaction.value_counts()"
   ]
  },
  {
   "cell_type": "code",
   "execution_count": null,
   "metadata": {},
   "outputs": [],
   "source": [
    "plt.figure(figsize=(10,10))\n",
    "sns.set_theme(style=\"darkgrid\")\n",
    "ax=sns.countplot(x=\"RelationshipSatisfaction\", data=df)"
   ]
  },
  {
   "cell_type": "markdown",
   "metadata": {},
   "source": [
    "this column look normally distriburted"
   ]
  },
  {
   "cell_type": "markdown",
   "metadata": {},
   "source": [
    "'Stockoptionlevel'"
   ]
  },
  {
   "cell_type": "code",
   "execution_count": null,
   "metadata": {},
   "outputs": [],
   "source": [
    "df.StockOptionLevel.value_counts()"
   ]
  },
  {
   "cell_type": "code",
   "execution_count": null,
   "metadata": {},
   "outputs": [],
   "source": [
    "plt.figure(figsize=(10,10))\n",
    "sns.set_theme(style=\"darkgrid\")\n",
    "ax=sns.countplot(x=\"StockOptionLevel\", data=df)"
   ]
  },
  {
   "cell_type": "markdown",
   "metadata": {},
   "source": [
    "it looks normally via graph"
   ]
  },
  {
   "cell_type": "markdown",
   "metadata": {},
   "source": [
    "'total working years'"
   ]
  },
  {
   "cell_type": "code",
   "execution_count": null,
   "metadata": {},
   "outputs": [],
   "source": [
    "\n",
    "sns.countplot(df.TotalWorkingYears)"
   ]
  },
  {
   "cell_type": "code",
   "execution_count": null,
   "metadata": {},
   "outputs": [],
   "source": [
    "sns.distplot(df.TotalWorkingYears)"
   ]
  },
  {
   "cell_type": "markdown",
   "metadata": {},
   "source": [
    "its positively skewed and most people work over 10 years"
   ]
  },
  {
   "cell_type": "markdown",
   "metadata": {},
   "source": [
    "'Gender'"
   ]
  },
  {
   "cell_type": "code",
   "execution_count": null,
   "metadata": {},
   "outputs": [],
   "source": [
    "df.Gender.value_counts()"
   ]
  },
  {
   "cell_type": "code",
   "execution_count": null,
   "metadata": {},
   "outputs": [],
   "source": [
    "sns.countplot(x='Gender', data=df, palette=\"mako_r\")\n",
    "plt.show()"
   ]
  },
  {
   "cell_type": "markdown",
   "metadata": {},
   "source": [
    "male are comparatively greater than females in company"
   ]
  },
  {
   "cell_type": "markdown",
   "metadata": {},
   "source": [
    "'Hourly rate'"
   ]
  },
  {
   "cell_type": "code",
   "execution_count": null,
   "metadata": {},
   "outputs": [],
   "source": [
    "sns.distplot(df.HourlyRate)"
   ]
  },
  {
   "cell_type": "markdown",
   "metadata": {},
   "source": [
    "The hourly rate is uniform"
   ]
  },
  {
   "cell_type": "markdown",
   "metadata": {},
   "source": [
    "'Job Role'"
   ]
  },
  {
   "cell_type": "code",
   "execution_count": null,
   "metadata": {},
   "outputs": [],
   "source": [
    "df.JobRole.value_counts()"
   ]
  },
  {
   "cell_type": "code",
   "execution_count": null,
   "metadata": {},
   "outputs": [],
   "source": [
    "plt.figure(figsize=(20,10))\n",
    "sns.set_theme(style=\"darkgrid\")\n",
    "ax=sns.countplot(x=\"JobRole\", data=df)"
   ]
  },
  {
   "cell_type": "markdown",
   "metadata": {},
   "source": [
    "top two job role are sales executive and research scientist and total on 9 roles"
   ]
  },
  {
   "cell_type": "markdown",
   "metadata": {},
   "source": [
    "'maritial status'"
   ]
  },
  {
   "cell_type": "code",
   "execution_count": null,
   "metadata": {},
   "outputs": [],
   "source": [
    "df.MaritalStatus.value_counts()"
   ]
  },
  {
   "cell_type": "code",
   "execution_count": null,
   "metadata": {},
   "outputs": [],
   "source": [
    "sns.countplot(x='MaritalStatus', data=df, palette=\"mako_r\")\n",
    "plt.show()"
   ]
  },
  {
   "cell_type": "code",
   "execution_count": null,
   "metadata": {},
   "outputs": [],
   "source": [
    "countsingle = len(df[df.MaritalStatus == 'Single'])\n",
    "countmarried = len(df[df.MaritalStatus == 'Married'])\n",
    "countdivorced = len(df[df.MaritalStatus == 'Divorced'])\n",
    "\n",
    "print(\"Percentage of count1: {:.2f}%\".format((countsingle / (len(df.MaritalStatus))*100)))\n",
    "print(\"Percentage of count2: {:.2f}%\".format((countmarried/ (len(df.MaritalStatus))*100)))\n",
    "print(\"Percentage of count4: {:.2f}%\".format((countdivorced / (len(df.MaritalStatus))*100)))\n"
   ]
  },
  {
   "cell_type": "markdown",
   "metadata": {},
   "source": [
    "maximum people are married in the company"
   ]
  },
  {
   "cell_type": "markdown",
   "metadata": {},
   "source": [
    "'Attrition'"
   ]
  },
  {
   "cell_type": "code",
   "execution_count": null,
   "metadata": {},
   "outputs": [],
   "source": [
    "df.Attrition.value_counts()"
   ]
  },
  {
   "cell_type": "code",
   "execution_count": null,
   "metadata": {},
   "outputs": [],
   "source": [
    "sns.countplot(df.Attrition)"
   ]
  },
  {
   "cell_type": "markdown",
   "metadata": {},
   "source": [
    "here target variable is imbalance."
   ]
  },
  {
   "cell_type": "markdown",
   "metadata": {},
   "source": [
    "age vs attrition"
   ]
  },
  {
   "cell_type": "code",
   "execution_count": null,
   "metadata": {},
   "outputs": [],
   "source": [
    "pd.crosstab(df.Age,df.Attrition).plot(kind=\"bar\",figsize=(20,6))\n",
    "plt.title('age vs attrition')\n",
    "plt.xlabel('Age')\n",
    "plt.ylabel('Frequency')\n",
    "plt.show()"
   ]
  },
  {
   "cell_type": "code",
   "execution_count": null,
   "metadata": {},
   "outputs": [],
   "source": [
    "plt.figure(figsize=(10,10))\n",
    "sns.distplot(df[df.Attrition == 'Yes']['Age'],label='Yes')\n",
    "sns.distplot(df[df.Attrition == 'No']['Age'],label='No')\n",
    "plt.legend()"
   ]
  },
  {
   "cell_type": "markdown",
   "metadata": {},
   "source": [
    "people with less age are more likely to leave other than older"
   ]
  },
  {
   "cell_type": "markdown",
   "metadata": {},
   "source": [
    "travelling vs attrition"
   ]
  },
  {
   "cell_type": "code",
   "execution_count": null,
   "metadata": {},
   "outputs": [],
   "source": [
    "pd.crosstab(df.BusinessTravel,df.Attrition).plot(kind=\"bar\",figsize=(20,6))\n",
    "plt.title('travelling vs attrition')\n",
    "plt.xlabel('BusinessTravel')\n",
    "plt.ylabel('Frequency')\n",
    "plt.show()"
   ]
  },
  {
   "cell_type": "markdown",
   "metadata": {},
   "source": [
    "looks normally as people travelling rarely has high count"
   ]
  },
  {
   "cell_type": "markdown",
   "metadata": {},
   "source": [
    "Education vs monthly income"
   ]
  },
  {
   "cell_type": "code",
   "execution_count": null,
   "metadata": {},
   "outputs": [],
   "source": [
    "sns.barplot(df.Education,df.MonthlyIncome)"
   ]
  },
  {
   "cell_type": "code",
   "execution_count": null,
   "metadata": {},
   "outputs": [],
   "source": [
    "pd.crosstab(df.Education,df.Attrition).plot(kind=\"bar\",figsize=(20,6))\n",
    "plt.title('Education vs attrition')\n",
    "plt.xlabel('Education')\n",
    "plt.ylabel('Frequency')\n",
    "plt.show()"
   ]
  },
  {
   "cell_type": "markdown",
   "metadata": {},
   "source": [
    "the higher the education, higher will be salary"
   ]
  },
  {
   "cell_type": "markdown",
   "metadata": {},
   "source": [
    "jobrole vs salary/attrtion"
   ]
  },
  {
   "cell_type": "code",
   "execution_count": null,
   "metadata": {},
   "outputs": [],
   "source": [
    "pd.crosstab(df.JobRole,df.Attrition).plot(kind=\"bar\",figsize=(20,6))\n",
    "plt.title('jobrole vs attrition')\n",
    "plt.xlabel('Education')\n",
    "plt.ylabel('Frequency')\n",
    "plt.show()"
   ]
  },
  {
   "cell_type": "code",
   "execution_count": null,
   "metadata": {},
   "outputs": [],
   "source": [
    "plt.figure(figsize=(20,10))\n",
    "\n",
    "sns.boxplot(df.JobRole,df.MonthlyIncome,order=df.groupby('JobRole').mean().sort_values('MonthlyIncome',ascending=False)['MonthlyIncome'].index)"
   ]
  },
  {
   "cell_type": "markdown",
   "metadata": {},
   "source": [
    "top two roles having highest salary are manager and research diretor"
   ]
  },
  {
   "cell_type": "markdown",
   "metadata": {},
   "source": [
    "distance to home vs attrition"
   ]
  },
  {
   "cell_type": "code",
   "execution_count": null,
   "metadata": {},
   "outputs": [],
   "source": [
    "pd.crosstab(df.DistanceFromHome,df.Attrition).plot(kind=\"bar\",figsize=(20,6))\n",
    "plt.title('DistanceFromHomevs attrition')\n",
    "plt.xlabel('Distance')\n",
    "plt.ylabel('Frequency')\n",
    "plt.show()"
   ]
  },
  {
   "cell_type": "markdown",
   "metadata": {},
   "source": [
    "due to travel expense people are likely to leave and people who are close have less probablity to leave"
   ]
  },
  {
   "cell_type": "markdown",
   "metadata": {},
   "source": [
    "total working years to montly income /attrition"
   ]
  },
  {
   "cell_type": "code",
   "execution_count": null,
   "metadata": {},
   "outputs": [],
   "source": [
    "pd.crosstab(df.TotalWorkingYears,df.Attrition).plot(kind=\"bar\",figsize=(20,6))\n",
    "plt.title('TotalWorkingYears vs attrition')\n",
    "plt.xlabel('TotalWorkingYears')\n",
    "plt.ylabel('Frequency')\n",
    "plt.show()"
   ]
  },
  {
   "cell_type": "code",
   "execution_count": null,
   "metadata": {},
   "outputs": [],
   "source": [
    "sns.scatterplot(df.TotalWorkingYears,df.MonthlyIncome,hue=df.Attrition)"
   ]
  },
  {
   "cell_type": "markdown",
   "metadata": {},
   "source": [
    "people having less experience are more likely to leave and people having mediocre income are also leaving"
   ]
  },
  {
   "cell_type": "code",
   "execution_count": null,
   "metadata": {},
   "outputs": [],
   "source": [
    "#PRE PROCESSING THE DATA AS EDA IS COMPLETED"
   ]
  },
  {
   "cell_type": "code",
   "execution_count": null,
   "metadata": {},
   "outputs": [],
   "source": [
    "df = df.drop(['StandardHours','EmployeeNumber','EmployeeCount','Over18'],axis=1)"
   ]
  },
  {
   "cell_type": "code",
   "execution_count": null,
   "metadata": {},
   "outputs": [],
   "source": [
    "df.shape"
   ]
  },
  {
   "cell_type": "code",
   "execution_count": null,
   "metadata": {},
   "outputs": [],
   "source": [
    "# let's using IQR to address the outliers in hte dataset.\n",
    "\n",
    "Q1 = df.quantile(0.25)\n",
    "Q3 = df.quantile(0.75)\n",
    "IQR = Q3 - Q1\n",
    "print(IQR)\n"
   ]
  },
  {
   "cell_type": "code",
   "execution_count": null,
   "metadata": {},
   "outputs": [],
   "source": [
    "# let's using IQR to address the outliers ==\n",
    "\n",
    "df = df[~((df < (Q1 - 3 * IQR)) |(df > (Q3 + 3 * IQR))).any(axis=1)]"
   ]
  },
  {
   "cell_type": "code",
   "execution_count": null,
   "metadata": {},
   "outputs": [],
   "source": [
    "df.shape"
   ]
  },
  {
   "cell_type": "code",
   "execution_count": null,
   "metadata": {},
   "outputs": [],
   "source": [
    "df.head()"
   ]
  },
  {
   "cell_type": "code",
   "execution_count": null,
   "metadata": {},
   "outputs": [],
   "source": [
    "df.PerformanceRating.value_counts()"
   ]
  },
  {
   "cell_type": "code",
   "execution_count": null,
   "metadata": {},
   "outputs": [],
   "source": [
    "# We can drop performance rating from the data as it has only 1 value\n",
    "df.drop('PerformanceRating',1,inplace=True)"
   ]
  },
  {
   "cell_type": "code",
   "execution_count": null,
   "metadata": {},
   "outputs": [],
   "source": [
    "df.skew()"
   ]
  },
  {
   "cell_type": "markdown",
   "metadata": {},
   "source": [
    "skewness is little positive but thats fine"
   ]
  },
  {
   "cell_type": "code",
   "execution_count": null,
   "metadata": {},
   "outputs": [],
   "source": [
    "df"
   ]
  },
  {
   "cell_type": "code",
   "execution_count": null,
   "metadata": {},
   "outputs": [],
   "source": [
    "df.Attrition = df.Attrition.apply(lambda x:0 if x=='No' else 1)\n",
    "df.Gender = df.Gender.apply(lambda x:1 if x=='Male' else 0)\n",
    "df.OverTime = df.OverTime.apply(lambda x:1 if x=='Yes' else 0)\n"
   ]
  },
  {
   "cell_type": "code",
   "execution_count": null,
   "metadata": {},
   "outputs": [],
   "source": [
    "df"
   ]
  },
  {
   "cell_type": "code",
   "execution_count": null,
   "metadata": {},
   "outputs": [],
   "source": [
    "a = pd.get_dummies(df['BusinessTravel'], prefix = \"BusinessTravel\")\n",
    "b = pd.get_dummies(df['Department'], prefix = \"Department\")\n",
    "c = pd.get_dummies(df['EducationField'], prefix = \"EducationField\")\n",
    "d = pd.get_dummies(df['JobRole'], prefix = \"JobRole\")\n",
    "e = pd.get_dummies(df['MaritalStatus'], prefix = \"MaritalStatus\")\n",
    "\n",
    "frames = [df, a, b, c,d,e]\n",
    "df = pd.concat(frames, axis = 1)\n",
    "df.head()\n",
    "\n"
   ]
  },
  {
   "cell_type": "code",
   "execution_count": null,
   "metadata": {},
   "outputs": [],
   "source": [
    "df = df.drop(columns = ['BusinessTravel', 'Department', 'EducationField','JobRole', 'MaritalStatus'])\n",
    "df.head()\n"
   ]
  },
  {
   "cell_type": "code",
   "execution_count": null,
   "metadata": {},
   "outputs": [],
   "source": [
    "# split X and y \n",
    "X = df.drop('Attrition',1)\n",
    "y = df['Attrition']"
   ]
  },
  {
   "cell_type": "code",
   "execution_count": null,
   "metadata": {},
   "outputs": [],
   "source": [
    "# train test split\n",
    "from sklearn.model_selection import train_test_split\n",
    "X_train,X_test,y_train,y_test = train_test_split(X,y,test_size=0.3,random_state=42)"
   ]
  },
  {
   "cell_type": "code",
   "execution_count": null,
   "metadata": {},
   "outputs": [],
   "source": [
    "# check the shapes:\n",
    "X_train.shape,y_train.shape,X_test.shape,y_test.shape"
   ]
  },
  {
   "cell_type": "code",
   "execution_count": null,
   "metadata": {},
   "outputs": [],
   "source": [
    "to_scale_features = 'Age DailyRate DistanceFromHome Education EnvironmentSatisfaction HourlyRate JobInvolvement JobLevel JobSatisfaction MonthlyIncome MonthlyRate NumCompaniesWorked PercentSalaryHike RelationshipSatisfaction TotalWorkingYears TrainingTimesLastYear WorkLifeBalance YearsAtCompany YearsInCurrentRole YearsSinceLastPromotion YearsWithCurrManager'.split()   "
   ]
  },
  {
   "cell_type": "code",
   "execution_count": null,
   "metadata": {},
   "outputs": [],
   "source": [
    "from sklearn.preprocessing import StandardScaler\n",
    "from sklearn.compose import ColumnTransformer\n",
    "\n",
    "ct = ColumnTransformer(transformers=[('scalar',StandardScaler(),to_scale_features)],remainder='passthrough')"
   ]
  },
  {
   "cell_type": "code",
   "execution_count": null,
   "metadata": {},
   "outputs": [],
   "source": [
    "X_train = ct.fit_transform(X_train)\n",
    "X_test = ct.transform(X_test)"
   ]
  },
  {
   "cell_type": "code",
   "execution_count": null,
   "metadata": {},
   "outputs": [],
   "source": [
    "X_train.shape,y_train.shape,X_test.shape,y_test.shape"
   ]
  },
  {
   "cell_type": "code",
   "execution_count": null,
   "metadata": {},
   "outputs": [],
   "source": [
    "from sklearn.linear_model import LogisticRegression\n",
    "from sklearn.tree import DecisionTreeClassifier\n",
    "from sklearn.ensemble import RandomForestClassifier,GradientBoostingClassifier,AdaBoostClassifier\n",
    "from sklearn.naive_bayes import GaussianNB\n",
    "from sklearn.svm import SVC\n",
    "from sklearn.neighbors import KNeighborsClassifier"
   ]
  },
  {
   "cell_type": "code",
   "execution_count": null,
   "metadata": {},
   "outputs": [],
   "source": [
    "from sklearn.model_selection import cross_val_score,KFold\n",
    "from sklearn.metrics import accuracy_score,confusion_matrix\n",
    "from sklearn.metrics import f1_score,precision_score,recall_score,auc,confusion_matrix,classification_report,plot_confusion_matrix,plot_precision_recall_curve,plot_roc_curve,roc_auc_score"
   ]
  },
  {
   "cell_type": "code",
   "execution_count": null,
   "metadata": {},
   "outputs": [],
   "source": [
    "dtc=DecisionTreeClassifier()\n",
    "dtc.fit(X_train,y_train)\n",
    "dtc.score(X_train,y_train)\n",
    "preddtc=dtc.predict(X_test)\n",
    "print(accuracy_score(y_test,preddtc))\n",
    "print(confusion_matrix(y_test,preddtc))\n",
    "print(classification_report(y_test,preddtc))\n",
    "    "
   ]
  },
  {
   "cell_type": "code",
   "execution_count": null,
   "metadata": {},
   "outputs": [],
   "source": [
    "from sklearn.linear_model import LinearRegression"
   ]
  },
  {
   "cell_type": "code",
   "execution_count": null,
   "metadata": {},
   "outputs": [],
   "source": [
    "model=LogisticRegression()"
   ]
  },
  {
   "cell_type": "code",
   "execution_count": null,
   "metadata": {},
   "outputs": [],
   "source": [
    "model.fit(X_train,y_train)"
   ]
  },
  {
   "cell_type": "code",
   "execution_count": null,
   "metadata": {},
   "outputs": [],
   "source": [
    "model.score(X_test,y_test)"
   ]
  },
  {
   "cell_type": "code",
   "execution_count": null,
   "metadata": {},
   "outputs": [],
   "source": [
    "lrg=LogisticRegression()\n",
    "lrg.fit(X_train,y_train)\n",
    "lrg.score(X_train,y_train)\n",
    "predlrg=lrg.predict(X_test)\n",
    "print(accuracy_score(y_test,predlrg))\n",
    "print(confusion_matrix(y_test,predlrg))\n",
    "print(classification_report(y_test,predlrg))"
   ]
  },
  {
   "cell_type": "code",
   "execution_count": null,
   "metadata": {},
   "outputs": [],
   "source": [
    "from sklearn.neighbors import KNeighborsClassifier\n",
    "knn=KNeighborsClassifier(n_neighbors=5)\n",
    "knn.fit(X_train,y_train)\n",
    "knn.score(X_train,y_train)\n",
    "predknn=knn.predict(X_test)\n",
    "print(accuracy_score(y_test,predknn))\n",
    "print(confusion_matrix(y_test,predknn))\n",
    "print(classification_report(y_test,predknn))"
   ]
  },
  {
   "cell_type": "code",
   "execution_count": null,
   "metadata": {},
   "outputs": [],
   "source": [
    "from sklearn.svm import SVC\n",
    "svc=SVC(kernel='poly')\n",
    "svc.fit(X_train,y_train)\n",
    "svc.score(X_train,y_train)\n",
    "predsvc=svc.predict(X_test)\n",
    "print(accuracy_score(y_test,predsvc))\n",
    "print(confusion_matrix(y_test,predsvc))\n",
    "print(classification_report(y_test,predsvc))"
   ]
  },
  {
   "cell_type": "code",
   "execution_count": null,
   "metadata": {},
   "outputs": [],
   "source": [
    "def svmkernel(ker):\n",
    "    svc=SVC(kernel=ker)\n",
    "    svc.fit(X_train,y_train)\n",
    "    svc.score(X_train,y_train)\n",
    "    predsvc=svc.predict(X_test)\n",
    "    print(accuracy_score(y_test,predsvc))\n",
    "    print(confusion_matrix(y_test,predsvc))\n",
    "    print(classification_report(y_test,predsvc))"
   ]
  },
  {
   "cell_type": "code",
   "execution_count": null,
   "metadata": {},
   "outputs": [],
   "source": [
    "svmkernel('rbf')"
   ]
  },
  {
   "cell_type": "code",
   "execution_count": null,
   "metadata": {},
   "outputs": [],
   "source": [
    "# Predicted values\n",
    "y_head_lrg = lrg.predict(X_test)\n",
    "knn3 = KNeighborsClassifier(n_neighbors = 5)\n",
    "knn3.fit(X_train, y_train)\n",
    "y_head_knn = knn3.predict(X_test)\n",
    "y_head_svc = svc.predict(X_test)\n",
    "y_head_dtc = dtc.predict(X_test)"
   ]
  },
  {
   "cell_type": "code",
   "execution_count": null,
   "metadata": {},
   "outputs": [],
   "source": [
    "from sklearn.metrics import confusion_matrix\n",
    "\n",
    "cm_lrg = confusion_matrix(y_test,y_head_lrg)\n",
    "cm_knn = confusion_matrix(y_test,y_head_knn)\n",
    "cm_svc = confusion_matrix(y_test,y_head_svc)\n",
    "cm_dtc = confusion_matrix(y_test,y_head_dtc)"
   ]
  },
  {
   "cell_type": "code",
   "execution_count": null,
   "metadata": {},
   "outputs": [],
   "source": [
    "plt.figure(figsize=(24,12))\n",
    "\n",
    "plt.suptitle(\"Confusion Matrixes\",fontsize=24)\n",
    "plt.subplots_adjust(wspace = 0.4, hspace= 0.4)\n",
    "\n",
    "plt.subplot(2,3,1)\n",
    "plt.title(\"Logistic Regression Confusion Matrix\")\n",
    "sns.heatmap(cm_lrg,annot=True,cmap=\"Blues\",fmt=\"d\",cbar=False, annot_kws={\"size\": 24})\n",
    "\n",
    "plt.subplot(2,3,2)\n",
    "plt.title(\"K Nearest Neighbors Confusion Matrix\")\n",
    "sns.heatmap(cm_knn,annot=True,cmap=\"Blues\",fmt=\"d\",cbar=False, annot_kws={\"size\": 24})\n",
    "\n",
    "plt.subplot(2,3,3)\n",
    "plt.title(\"Support Vector Machine Confusion Matrix\")\n",
    "sns.heatmap(cm_svc,annot=True,cmap=\"Blues\",fmt=\"d\",cbar=False, annot_kws={\"size\": 24})\n",
    "\n",
    "plt.subplot(2,3,5)\n",
    "plt.title(\"Decision Tree Classifier Confusion Matrix\")\n",
    "sns.heatmap(cm_dtc,annot=True,cmap=\"Blues\",fmt=\"d\",cbar=False, annot_kws={\"size\": 24})\n",
    "\n",
    "plt.show()"
   ]
  },
  {
   "cell_type": "code",
   "execution_count": null,
   "metadata": {},
   "outputs": [],
   "source": [
    "def train_n_ret_scores(model):\n",
    "    \"\"\"\n",
    "    Input: model for fitting the data.\n",
    "    Output: scores on the test set\n",
    "    \"\"\"\n",
    "    model.fit(X_train,y_train)\n",
    "    \n",
    "    y_preds = model.predict(X_test)\n",
    "    \n",
    "    print(classification_report(y_test,y_preds))\n",
    "    "
   ]
  },
  {
   "cell_type": "code",
   "execution_count": null,
   "metadata": {},
   "outputs": [],
   "source": [
    "train_n_ret_scores(GradientBoostingClassifier())"
   ]
  },
  {
   "cell_type": "code",
   "execution_count": null,
   "metadata": {},
   "outputs": [],
   "source": [
    "train_n_ret_scores(AdaBoostClassifier())"
   ]
  },
  {
   "cell_type": "code",
   "execution_count": null,
   "metadata": {},
   "outputs": [],
   "source": [
    "train_n_ret_scores(AdaBoostClassifier(RandomForestClassifier()))"
   ]
  },
  {
   "cell_type": "code",
   "execution_count": null,
   "metadata": {},
   "outputs": [],
   "source": [
    "train_n_ret_scores(GaussianNB())"
   ]
  },
  {
   "cell_type": "code",
   "execution_count": null,
   "metadata": {},
   "outputs": [],
   "source": [
    "models = [LogisticRegression(),DecisionTreeClassifier(),RandomForestClassifier(),GradientBoostingClassifier(),AdaBoostClassifier(),KNeighborsClassifier(),SVC(),GaussianNB()]\n",
    "model_names = 'LogisticRegression,DecisionTreeClassifier,RandomForestClassifier,GradientBoostingClassifier,AdaBoostClassifier,KNeighborsClassifier,SVC,GaussianNB'.split(',')\n",
    "\n",
    "models_df = pd.DataFrame(columns=['Model','Train_Acc','Test_Acc','Precision','Recall','F1_score','Avg_CV'])\n",
    "\n",
    "for model,model_names in zip(models,model_names):\n",
    "    \n",
    "    model.fit(X_train,y_train)\n",
    "    \n",
    "    train_acc = model.score(X_train,y_train)\n",
    "    test_acc = model.score(X_test,y_test)\n",
    "    \n",
    "    y_preds = model.predict(X_test)\n",
    "    \n",
    "    prec = precision_score(y_test,y_preds)\n",
    "    recall = recall_score(y_test,y_preds)\n",
    "    f1= f1_score(y_test,y_preds)\n",
    "\n",
    "    avg_cv = np.mean(cross_val_score(model,X,y,cv=KFold(n_splits=10,shuffle=True,random_state=42)))\n",
    "\n",
    "    models_df = models_df.append({'Model':model_names,'Train_Acc':train_acc,'Test_Acc':test_acc,'Precision':prec,'Recall':recall,'F1_score':f1,'Avg_CV':avg_cv},ignore_index=True)\n",
    "    \n",
    "models_df.set_index('Model',inplace=True)"
   ]
  },
  {
   "cell_type": "code",
   "execution_count": null,
   "metadata": {},
   "outputs": [],
   "source": [
    "models_df"
   ]
  },
  {
   "cell_type": "code",
   "execution_count": null,
   "metadata": {},
   "outputs": [],
   "source": [
    "models = [LogisticRegression(),DecisionTreeClassifier(),RandomForestClassifier(),GradientBoostingClassifier(),AdaBoostClassifier(LogisticRegression()),KNeighborsClassifier(),SVC(),GaussianNB()]\n",
    "model_names = 'LogisticRegression,DecisionTreeClassifier,RandomForestClassifier,GradientBoostingClassifier,AdaBoostClassifier,KNeighborsClassifier,SVC,GaussianNB'.split(',')\n",
    "\n",
    "models_df_new = pd.DataFrame(columns=['Model','Train_Acc','Test_Acc','Avg_CV','Avg_CV_ROC_AUC'])\n",
    "\n",
    "for model,model_names in zip(models,model_names):\n",
    "    #print(model,model_names)\n",
    "    model.fit(X_train,y_train)\n",
    "    \n",
    "    train_acc = model.score(X_train,y_train)\n",
    "    test_acc = model.score(X_test,y_test)\n",
    "    \n",
    "    y_preds = model.predict(X_test)\n",
    "\n",
    "    avg_cv = np.mean(cross_val_score(model,X,y,cv=KFold(n_splits=10,shuffle=True,random_state=42),scoring='accuracy'))\n",
    "    \n",
    "    avg_cv_roc_auc = np.mean(cross_val_score(model,X,y,cv=KFold(n_splits=10,shuffle=True,random_state=42),scoring='roc_auc'))\n",
    "    #print(train_acc,test_acc,avg_cv,avg_cv_roc_auc)\n",
    "    models_df_new = models_df_new.append({'Model':model_names,'Train_Acc':train_acc,'Test_Acc':test_acc,'Avg_CV':avg_cv,'Avg_CV_ROC_AUC':avg_cv_roc_auc},ignore_index=True)\n",
    "    #print(models_df_new)\n",
    "#models_df_new.set_index('Model',inplace=True)"
   ]
  },
  {
   "cell_type": "code",
   "execution_count": null,
   "metadata": {},
   "outputs": [],
   "source": [
    "models_df_new"
   ]
  },
  {
   "cell_type": "markdown",
   "metadata": {},
   "source": [
    "AdaBoost Classifier with Logistic Regression as the base model is woking great"
   ]
  },
  {
   "cell_type": "markdown",
   "metadata": {},
   "source": [
    "ROC_AUC is one of the best metric to check the performance on the imbalanced dataset."
   ]
  },
  {
   "cell_type": "code",
   "execution_count": null,
   "metadata": {},
   "outputs": [],
   "source": [
    "# best model:\n",
    "\n",
    "best_model = AdaBoostClassifier(LogisticRegression())\n",
    "\n",
    "best_model.fit(X_train,y_train)\n",
    "\n",
    "y_preds = best_model.predict(X_test)\n",
    "\n",
    "np.mean(cross_val_score(best_model,X,y,cv=KFold(n_splits=10,shuffle=True)))"
   ]
  },
  {
   "cell_type": "code",
   "execution_count": null,
   "metadata": {},
   "outputs": [],
   "source": [
    "np.mean(cross_val_score(best_model,X,y,cv=KFold(n_splits=10,shuffle=True),scoring='roc_auc'))"
   ]
  },
  {
   "cell_type": "code",
   "execution_count": null,
   "metadata": {},
   "outputs": [],
   "source": [
    "plot_roc_curve(model,X_train,y_train)\n",
    "plt.plot(y_test,y_test,linestyle='--')"
   ]
  },
  {
   "cell_type": "code",
   "execution_count": null,
   "metadata": {},
   "outputs": [],
   "source": [
    "plot_roc_curve(model,X_test,y_test)\n",
    "plt.plot(y_test,y_test,linestyle='--')"
   ]
  },
  {
   "cell_type": "code",
   "execution_count": null,
   "metadata": {},
   "outputs": [],
   "source": [
    "# Saving the bes model:\n",
    "import joblib\n",
    "\n",
    "joblib.dump(best_model,'HR.pkl')"
   ]
  },
  {
   "cell_type": "code",
   "execution_count": null,
   "metadata": {},
   "outputs": [],
   "source": []
  },
  {
   "cell_type": "code",
   "execution_count": null,
   "metadata": {},
   "outputs": [],
   "source": []
  }
 ],
 "metadata": {
  "kernelspec": {
   "display_name": "Python 3",
   "language": "python",
   "name": "python3"
  },
  "language_info": {
   "codemirror_mode": {
    "name": "ipython",
    "version": 3
   },
   "file_extension": ".py",
   "mimetype": "text/x-python",
   "name": "python",
   "nbconvert_exporter": "python",
   "pygments_lexer": "ipython3",
   "version": "3.8.5"
  }
 },
 "nbformat": 4,
 "nbformat_minor": 4
}
